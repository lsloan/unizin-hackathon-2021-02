{
 "cells": [
  {
   "cell_type": "markdown",
   "metadata": {},
   "source": [
    "## explore_expanded.ipynb\n",
    "\n",
    "A notebook for exploring expanded events in the Unizin Data Platform"
   ]
  },
  {
   "cell_type": "code",
   "execution_count": null,
   "metadata": {},
   "outputs": [],
   "source": [
    "# standard libraries\n",
    "import json, os\n",
    "\n",
    "# third-party libraries\n",
    "from google.cloud import bigquery\n",
    "from google.oauth2 import service_account\n",
    "import pandas as pd\n",
    "import matplotlib.pyplot as plt\n",
    "\n",
    "pd.set_option('display.max_rows', None)"
   ]
  },
  {
   "cell_type": "markdown",
   "metadata": {},
   "source": [
    "First, set up the BigQuery client.\n",
    "See https://cloud.google.com/bigquery/docs/authentication/service-account-file#python"
   ]
  },
  {
   "cell_type": "code",
   "execution_count": null,
   "metadata": {},
   "outputs": [],
   "source": [
    "key_path = os.path.join(os.path.abspath('.'), 'unizin-hackathon-updated.json')\n",
    "\n",
    "cred = service_account.Credentials.from_service_account_file(\n",
    "    key_path, scopes=[\"https://www.googleapis.com/auth/cloud-platform\"]\n",
    ")\n",
    "\n",
    "client = bigquery.Client(credentials=cred, project=cred.project_id)"
   ]
  },
  {
   "cell_type": "markdown",
   "metadata": {},
   "source": [
    "Start executing queries!"
   ]
  },
  {
   "cell_type": "markdown",
   "metadata": {},
   "source": [
    "### Exploration of expanded events"
   ]
  },
  {
   "cell_type": "markdown",
   "metadata": {},
   "source": [
    "Fetch events from expanded table using the client."
   ]
  },
  {
   "cell_type": "code",
   "execution_count": null,
   "metadata": {},
   "outputs": [],
   "source": [
    "events_query = '''\n",
    "    select\n",
    "        id,\n",
    "        event_time,\n",
    "        type,\n",
    "        action,\n",
    "        actor,\n",
    "        target,\n",
    "        object.id as object_id\n",
    "    from session1_datamarts.expanded\n",
    "    where event_time >= '2021-01-01';\n",
    "'''\n",
    "\n",
    "expanded_event_data = client.query(events_query)\n",
    "event_df = expanded_event_data.to_dataframe()"
   ]
  },
  {
   "cell_type": "markdown",
   "metadata": {},
   "source": [
    "Begin explanation/analysis!"
   ]
  },
  {
   "cell_type": "code",
   "execution_count": null,
   "metadata": {},
   "outputs": [],
   "source": [
    "event_df.head(2)"
   ]
  },
  {
   "cell_type": "code",
   "execution_count": null,
   "metadata": {},
   "outputs": [],
   "source": [
    "len(event_df)"
   ]
  },
  {
   "cell_type": "code",
   "execution_count": null,
   "metadata": {},
   "outputs": [],
   "source": [
    "event_df.columns"
   ]
  },
  {
   "cell_type": "code",
   "execution_count": null,
   "metadata": {},
   "outputs": [],
   "source": [
    "event_df['type'].unique()"
   ]
  },
  {
   "cell_type": "code",
   "execution_count": null,
   "metadata": {},
   "outputs": [],
   "source": [
    "event_df_type = event_df[['id', 'type']].copy()\n",
    "event_df_type.groupby(['type']).count()"
   ]
  },
  {
   "cell_type": "code",
   "execution_count": null,
   "metadata": {},
   "outputs": [],
   "source": [
    "nav_event_df = event_df.loc[event_df['type'] == 'NavigationEvent'].copy()\n",
    "len(nav_event_df)"
   ]
  },
  {
   "cell_type": "code",
   "execution_count": null,
   "metadata": {},
   "outputs": [],
   "source": [
    "# Transform object_id\n",
    "nav_event_df['object_id_wo_canvas'] = nav_event_df['object_id'].map(lambda x: ':'.join(x.split(':')[-2:]))\n",
    "nav_event_df.head(2)"
   ]
  },
  {
   "cell_type": "code",
   "execution_count": null,
   "metadata": {},
   "outputs": [],
   "source": [
    "nav_event_df_less = nav_event_df[['id', 'object_id']].copy()\n",
    "nav_count_df = nav_event_df_less.groupby(['object_id']).count()\n",
    "nav_count_df = nav_count_df.rename(columns={'id': 'nav_count'})\n",
    "nav_count_df = nav_count_df.sort_values(by=['nav_count'], ascending=False)\n",
    "nav_count_df[:100]"
   ]
  },
  {
   "cell_type": "markdown",
   "metadata": {},
   "source": [
    "### Exploration of course_offering_stats"
   ]
  },
  {
   "cell_type": "markdown",
   "metadata": {},
   "source": [
    "Fetch 2020 from course_offering_status data mart."
   ]
  },
  {
   "cell_type": "code",
   "execution_count": null,
   "metadata": {},
   "outputs": [],
   "source": [
    "course_offering_stats_query = '''\n",
    "    select\n",
    "        lms_course_offering_id,\n",
    "        udp_course_offering_id,\n",
    "        course_offering_subject,\n",
    "        learning_environment_status,\n",
    "        num_learner_events,\n",
    "        academic_term_name\n",
    "    from session1_datamarts.course_offering_stats\n",
    "    where academic_term_year=2020;\n",
    "'''\n",
    "\n",
    "course_stats_data = client.query(course_offering_stats_query)\n",
    "course_stats_df = course_stats_data.to_dataframe()"
   ]
  },
  {
   "cell_type": "markdown",
   "metadata": {},
   "source": [
    "Begin exploration/analysis."
   ]
  },
  {
   "cell_type": "code",
   "execution_count": null,
   "metadata": {},
   "outputs": [],
   "source": [
    "len(course_stats_df)"
   ]
  },
  {
   "cell_type": "code",
   "execution_count": null,
   "metadata": {},
   "outputs": [],
   "source": [
    "course_stats_df.head(500)"
   ]
  },
  {
   "cell_type": "code",
   "execution_count": null,
   "metadata": {},
   "outputs": [],
   "source": [
    "course_stats_df['course_offering_subject'].unique()"
   ]
  },
  {
   "cell_type": "code",
   "execution_count": null,
   "metadata": {},
   "outputs": [],
   "source": [
    "course_stats_fall_df = course_stats_df.loc[course_stats_df['academic_term_name'] == 'Fall 2020'].copy()"
   ]
  },
  {
   "cell_type": "code",
   "execution_count": null,
   "metadata": {},
   "outputs": [],
   "source": [
    "def published(value):\n",
    "    if value == 'available':\n",
    "        return True\n",
    "    return False\n",
    "\n",
    "course_stats_fall_df['published'] = course_stats_df['learning_environment_status'].map(published)\n",
    "course_stats_fall_df"
   ]
  },
  {
   "cell_type": "code",
   "execution_count": null,
   "metadata": {},
   "outputs": [],
   "source": []
  }
 ],
 "metadata": {
  "kernelspec": {
   "display_name": "hack-2-21",
   "language": "python",
   "name": "venv"
  },
  "language_info": {
   "codemirror_mode": {
    "name": "ipython",
    "version": 3
   },
   "file_extension": ".py",
   "mimetype": "text/x-python",
   "name": "python",
   "nbconvert_exporter": "python",
   "pygments_lexer": "ipython3",
   "version": "3.8.5"
  }
 },
 "nbformat": 4,
 "nbformat_minor": 2
}
